{
 "cells": [
  {
   "cell_type": "code",
   "execution_count": 1,
   "id": "d243756a",
   "metadata": {},
   "outputs": [],
   "source": [
    "import pandas as pd\n",
    "import statsmodels.api as sm"
   ]
  },
  {
   "cell_type": "code",
   "execution_count": 2,
   "id": "3aa58dc1",
   "metadata": {},
   "outputs": [
    {
     "data": {
      "text/html": [
       "<div>\n",
       "<style scoped>\n",
       "    .dataframe tbody tr th:only-of-type {\n",
       "        vertical-align: middle;\n",
       "    }\n",
       "\n",
       "    .dataframe tbody tr th {\n",
       "        vertical-align: top;\n",
       "    }\n",
       "\n",
       "    .dataframe thead th {\n",
       "        text-align: right;\n",
       "    }\n",
       "</style>\n",
       "<table border=\"1\" class=\"dataframe\">\n",
       "  <thead>\n",
       "    <tr style=\"text-align: right;\">\n",
       "      <th></th>\n",
       "      <th>SM_Exgauster\\[0:0]</th>\n",
       "      <th>SM_Exgauster\\[0:1]</th>\n",
       "      <th>SM_Exgauster\\[0:2]</th>\n",
       "      <th>SM_Exgauster\\[0:3]</th>\n",
       "      <th>SM_Exgauster\\[0:4]</th>\n",
       "      <th>SM_Exgauster\\[0:5]</th>\n",
       "      <th>SM_Exgauster\\[0:6]</th>\n",
       "      <th>SM_Exgauster\\[0:7]</th>\n",
       "      <th>SM_Exgauster\\[0:8]</th>\n",
       "      <th>SM_Exgauster\\[0:9]</th>\n",
       "      <th>...</th>\n",
       "      <th>SM_Exgauster\\[6:2]</th>\n",
       "      <th>SM_Exgauster\\[6.0]</th>\n",
       "      <th>SM_Exgauster\\[7:0]</th>\n",
       "      <th>SM_Exgauster\\[7:1]</th>\n",
       "      <th>SM_Exgauster\\[7:2]</th>\n",
       "      <th>SM_Exgauster\\[7.0]</th>\n",
       "      <th>SM_Exgauster\\[8:0]</th>\n",
       "      <th>SM_Exgauster\\[8:1]</th>\n",
       "      <th>SM_Exgauster\\[8:2]</th>\n",
       "      <th>SM_Exgauster\\[8.0]</th>\n",
       "    </tr>\n",
       "    <tr>\n",
       "      <th>moment</th>\n",
       "      <th></th>\n",
       "      <th></th>\n",
       "      <th></th>\n",
       "      <th></th>\n",
       "      <th></th>\n",
       "      <th></th>\n",
       "      <th></th>\n",
       "      <th></th>\n",
       "      <th></th>\n",
       "      <th></th>\n",
       "      <th></th>\n",
       "      <th></th>\n",
       "      <th></th>\n",
       "      <th></th>\n",
       "      <th></th>\n",
       "      <th></th>\n",
       "      <th></th>\n",
       "      <th></th>\n",
       "      <th></th>\n",
       "      <th></th>\n",
       "      <th></th>\n",
       "    </tr>\n",
       "  </thead>\n",
       "  <tbody>\n",
       "    <tr>\n",
       "      <th>2023-01-25 06:32:25.125007</th>\n",
       "      <td>1.284722</td>\n",
       "      <td>1.689815</td>\n",
       "      <td>0.964621</td>\n",
       "      <td>1.614583</td>\n",
       "      <td>2.089120</td>\n",
       "      <td>1.440972</td>\n",
       "      <td>2.001208</td>\n",
       "      <td>1.539352</td>\n",
       "      <td>1.494385</td>\n",
       "      <td>1.765046</td>\n",
       "      <td>...</td>\n",
       "      <td>2.600589</td>\n",
       "      <td>1.0</td>\n",
       "      <td>625.000000</td>\n",
       "      <td>138.372635</td>\n",
       "      <td>3.098138</td>\n",
       "      <td>1.0</td>\n",
       "      <td>0.723379</td>\n",
       "      <td>15.567306</td>\n",
       "      <td>-5.605194e-45</td>\n",
       "      <td>0.0</td>\n",
       "    </tr>\n",
       "    <tr>\n",
       "      <th>2023-01-25 06:33:25.125007</th>\n",
       "      <td>1.267361</td>\n",
       "      <td>1.689815</td>\n",
       "      <td>0.962173</td>\n",
       "      <td>1.626158</td>\n",
       "      <td>2.065972</td>\n",
       "      <td>1.417824</td>\n",
       "      <td>1.997886</td>\n",
       "      <td>1.556713</td>\n",
       "      <td>1.482208</td>\n",
       "      <td>1.741898</td>\n",
       "      <td>...</td>\n",
       "      <td>2.594604</td>\n",
       "      <td>1.0</td>\n",
       "      <td>617.404541</td>\n",
       "      <td>138.209290</td>\n",
       "      <td>3.100688</td>\n",
       "      <td>1.0</td>\n",
       "      <td>0.723379</td>\n",
       "      <td>15.139420</td>\n",
       "      <td>-5.605194e-45</td>\n",
       "      <td>0.0</td>\n",
       "    </tr>\n",
       "    <tr>\n",
       "      <th>2023-01-25 06:34:25.125007</th>\n",
       "      <td>1.296296</td>\n",
       "      <td>1.701389</td>\n",
       "      <td>0.971429</td>\n",
       "      <td>1.620370</td>\n",
       "      <td>2.083333</td>\n",
       "      <td>1.429398</td>\n",
       "      <td>1.990758</td>\n",
       "      <td>1.527778</td>\n",
       "      <td>1.489869</td>\n",
       "      <td>1.712963</td>\n",
       "      <td>...</td>\n",
       "      <td>2.591550</td>\n",
       "      <td>1.0</td>\n",
       "      <td>618.438721</td>\n",
       "      <td>138.295776</td>\n",
       "      <td>3.107095</td>\n",
       "      <td>1.0</td>\n",
       "      <td>0.723379</td>\n",
       "      <td>15.138195</td>\n",
       "      <td>-5.605194e-45</td>\n",
       "      <td>0.0</td>\n",
       "    </tr>\n",
       "    <tr>\n",
       "      <th>2023-01-25 06:35:25.125007</th>\n",
       "      <td>1.255787</td>\n",
       "      <td>1.689815</td>\n",
       "      <td>0.971007</td>\n",
       "      <td>1.614583</td>\n",
       "      <td>2.077546</td>\n",
       "      <td>1.429398</td>\n",
       "      <td>2.019292</td>\n",
       "      <td>1.516204</td>\n",
       "      <td>1.489961</td>\n",
       "      <td>1.712963</td>\n",
       "      <td>...</td>\n",
       "      <td>2.686367</td>\n",
       "      <td>1.0</td>\n",
       "      <td>622.107178</td>\n",
       "      <td>138.080093</td>\n",
       "      <td>3.112228</td>\n",
       "      <td>1.0</td>\n",
       "      <td>0.723379</td>\n",
       "      <td>15.138195</td>\n",
       "      <td>-5.605194e-45</td>\n",
       "      <td>0.0</td>\n",
       "    </tr>\n",
       "    <tr>\n",
       "      <th>2023-01-25 06:36:25.125007</th>\n",
       "      <td>1.302083</td>\n",
       "      <td>1.701389</td>\n",
       "      <td>0.966538</td>\n",
       "      <td>1.620370</td>\n",
       "      <td>2.112268</td>\n",
       "      <td>1.452546</td>\n",
       "      <td>1.981981</td>\n",
       "      <td>1.562500</td>\n",
       "      <td>1.494923</td>\n",
       "      <td>1.770833</td>\n",
       "      <td>...</td>\n",
       "      <td>2.692058</td>\n",
       "      <td>1.0</td>\n",
       "      <td>617.766602</td>\n",
       "      <td>138.354065</td>\n",
       "      <td>3.106137</td>\n",
       "      <td>1.0</td>\n",
       "      <td>0.723379</td>\n",
       "      <td>15.138195</td>\n",
       "      <td>-5.605194e-45</td>\n",
       "      <td>0.0</td>\n",
       "    </tr>\n",
       "  </tbody>\n",
       "</table>\n",
       "<p>5 rows × 765 columns</p>\n",
       "</div>"
      ],
      "text/plain": [
       "                            SM_Exgauster\\[0:0]  SM_Exgauster\\[0:1]  \\\n",
       "moment                                                               \n",
       "2023-01-25 06:32:25.125007            1.284722            1.689815   \n",
       "2023-01-25 06:33:25.125007            1.267361            1.689815   \n",
       "2023-01-25 06:34:25.125007            1.296296            1.701389   \n",
       "2023-01-25 06:35:25.125007            1.255787            1.689815   \n",
       "2023-01-25 06:36:25.125007            1.302083            1.701389   \n",
       "\n",
       "                            SM_Exgauster\\[0:2]  SM_Exgauster\\[0:3]  \\\n",
       "moment                                                               \n",
       "2023-01-25 06:32:25.125007            0.964621            1.614583   \n",
       "2023-01-25 06:33:25.125007            0.962173            1.626158   \n",
       "2023-01-25 06:34:25.125007            0.971429            1.620370   \n",
       "2023-01-25 06:35:25.125007            0.971007            1.614583   \n",
       "2023-01-25 06:36:25.125007            0.966538            1.620370   \n",
       "\n",
       "                            SM_Exgauster\\[0:4]  SM_Exgauster\\[0:5]  \\\n",
       "moment                                                               \n",
       "2023-01-25 06:32:25.125007            2.089120            1.440972   \n",
       "2023-01-25 06:33:25.125007            2.065972            1.417824   \n",
       "2023-01-25 06:34:25.125007            2.083333            1.429398   \n",
       "2023-01-25 06:35:25.125007            2.077546            1.429398   \n",
       "2023-01-25 06:36:25.125007            2.112268            1.452546   \n",
       "\n",
       "                            SM_Exgauster\\[0:6]  SM_Exgauster\\[0:7]  \\\n",
       "moment                                                               \n",
       "2023-01-25 06:32:25.125007            2.001208            1.539352   \n",
       "2023-01-25 06:33:25.125007            1.997886            1.556713   \n",
       "2023-01-25 06:34:25.125007            1.990758            1.527778   \n",
       "2023-01-25 06:35:25.125007            2.019292            1.516204   \n",
       "2023-01-25 06:36:25.125007            1.981981            1.562500   \n",
       "\n",
       "                            SM_Exgauster\\[0:8]  SM_Exgauster\\[0:9]  ...  \\\n",
       "moment                                                              ...   \n",
       "2023-01-25 06:32:25.125007            1.494385            1.765046  ...   \n",
       "2023-01-25 06:33:25.125007            1.482208            1.741898  ...   \n",
       "2023-01-25 06:34:25.125007            1.489869            1.712963  ...   \n",
       "2023-01-25 06:35:25.125007            1.489961            1.712963  ...   \n",
       "2023-01-25 06:36:25.125007            1.494923            1.770833  ...   \n",
       "\n",
       "                            SM_Exgauster\\[6:2]  SM_Exgauster\\[6.0]  \\\n",
       "moment                                                               \n",
       "2023-01-25 06:32:25.125007            2.600589                 1.0   \n",
       "2023-01-25 06:33:25.125007            2.594604                 1.0   \n",
       "2023-01-25 06:34:25.125007            2.591550                 1.0   \n",
       "2023-01-25 06:35:25.125007            2.686367                 1.0   \n",
       "2023-01-25 06:36:25.125007            2.692058                 1.0   \n",
       "\n",
       "                            SM_Exgauster\\[7:0]  SM_Exgauster\\[7:1]  \\\n",
       "moment                                                               \n",
       "2023-01-25 06:32:25.125007          625.000000          138.372635   \n",
       "2023-01-25 06:33:25.125007          617.404541          138.209290   \n",
       "2023-01-25 06:34:25.125007          618.438721          138.295776   \n",
       "2023-01-25 06:35:25.125007          622.107178          138.080093   \n",
       "2023-01-25 06:36:25.125007          617.766602          138.354065   \n",
       "\n",
       "                            SM_Exgauster\\[7:2]  SM_Exgauster\\[7.0]  \\\n",
       "moment                                                               \n",
       "2023-01-25 06:32:25.125007            3.098138                 1.0   \n",
       "2023-01-25 06:33:25.125007            3.100688                 1.0   \n",
       "2023-01-25 06:34:25.125007            3.107095                 1.0   \n",
       "2023-01-25 06:35:25.125007            3.112228                 1.0   \n",
       "2023-01-25 06:36:25.125007            3.106137                 1.0   \n",
       "\n",
       "                            SM_Exgauster\\[8:0]  SM_Exgauster\\[8:1]  \\\n",
       "moment                                                               \n",
       "2023-01-25 06:32:25.125007            0.723379           15.567306   \n",
       "2023-01-25 06:33:25.125007            0.723379           15.139420   \n",
       "2023-01-25 06:34:25.125007            0.723379           15.138195   \n",
       "2023-01-25 06:35:25.125007            0.723379           15.138195   \n",
       "2023-01-25 06:36:25.125007            0.723379           15.138195   \n",
       "\n",
       "                            SM_Exgauster\\[8:2]  SM_Exgauster\\[8.0]  \n",
       "moment                                                              \n",
       "2023-01-25 06:32:25.125007       -5.605194e-45                 0.0  \n",
       "2023-01-25 06:33:25.125007       -5.605194e-45                 0.0  \n",
       "2023-01-25 06:34:25.125007       -5.605194e-45                 0.0  \n",
       "2023-01-25 06:35:25.125007       -5.605194e-45                 0.0  \n",
       "2023-01-25 06:36:25.125007       -5.605194e-45                 0.0  \n",
       "\n",
       "[5 rows x 765 columns]"
      ]
     },
     "execution_count": 2,
     "metadata": {},
     "output_type": "execute_result"
    }
   ],
   "source": [
    "df= pd.read_csv('raw_data.csv',index_col = ['moment'], parse_dates = ['moment'])\n",
    "df.head()"
   ]
  },
  {
   "cell_type": "markdown",
   "id": "1da4e134",
   "metadata": {},
   "source": [
    "Выделим в отдельную серию временной ряд со значениями осевой вибрации. Также удалим пропуски. Для проверки ряда на стационарность используется тест Дики-Фуллера."
   ]
  },
  {
   "cell_type": "code",
   "execution_count": 3,
   "id": "1454c915",
   "metadata": {},
   "outputs": [
    {
     "data": {
      "text/plain": [
       "<Axes: xlabel='moment'>"
      ]
     },
     "execution_count": 3,
     "metadata": {},
     "output_type": "execute_result"
    },
    {
     "data": {
      "image/png": "[encoded data removed]",
      "text/plain": [
       "<Figure size 640x480 with 1 Axes>"
      ]
     },
     "metadata": {},
     "output_type": "display_data"
    }
   ],
   "source": [
    "df2 = df['SM_Exgauster\\[0:8]'].dropna()\n",
    "df2.plot()"
   ]
  },
  {
   "cell_type": "code",
   "execution_count": 4,
   "id": "15e211fa",
   "metadata": {},
   "outputs": [
    {
     "name": "stdout",
     "output_type": "stream",
     "text": [
      "adf:  -4.80536091352931\n",
      "p-value:  5.311613807097181e-05\n",
      "Critial Values:\n",
      "   1%, -3.430561330786263\n",
      "Critial Values:\n",
      "   5%, -2.8616334026000385\n",
      "Critial Values:\n",
      "   10%, -2.566819715335456\n"
     ]
    }
   ],
   "source": [
    "test = sm.tsa.adfuller(df2)\n",
    "print ('adf: ', test[0]) \n",
    "print ('p-value: ', test[1])\n",
    "for key, value in test[4].items():\n",
    "    print('Critial Values:')\n",
    "    print(f'   {key}, {value}')"
   ]
  },
  {
   "cell_type": "markdown",
   "id": "03eaa735",
   "metadata": {},
   "source": [
    "Полученное 'p-value' превышает уровень 0,05. Это означает,что ряд не стационарен."
   ]
  },
  {
   "cell_type": "markdown",
   "id": "e8814282",
   "metadata": {},
   "source": [
    "Также тест Дики-Фуллера был проведен для вертикаольной вибрации.Данные были очищены от пропусков."
   ]
  },
  {
   "cell_type": "code",
   "execution_count": 5,
   "id": "7508579f",
   "metadata": {},
   "outputs": [
    {
     "data": {
      "text/plain": [
       "<Axes: xlabel='moment'>"
      ]
     },
     "execution_count": 5,
     "metadata": {},
     "output_type": "execute_result"
    },
    {
     "data": {
      "image/png": "[encoded data removed]",
      "text/plain": [
       "<Figure size 640x480 with 1 Axes>"
      ]
     },
     "metadata": {},
     "output_type": "display_data"
    }
   ],
   "source": [
    "df3=df['SM_Exgauster\\[0:10]'].dropna()\n",
    "df3.plot()"
   ]
  },
  {
   "cell_type": "code",
   "execution_count": 6,
   "id": "6834e42d",
   "metadata": {},
   "outputs": [
    {
     "name": "stdout",
     "output_type": "stream",
     "text": [
      "adf:  -2.84979408822689\n",
      "p-value:  0.051505514100786624\n",
      "Critial Values:\n",
      "   1%, -3.4305613444463146\n",
      "Critial Values:\n",
      "   5%, -2.861633408637204\n",
      "Critial Values:\n",
      "   10%, -2.5668197185488912\n"
     ]
    }
   ],
   "source": [
    "test = sm.tsa.adfuller(df3)\n",
    "print ('adf: ', test[0]) \n",
    "print ('p-value: ', test[1])\n",
    "for key, value in test[4].items():\n",
    "    print('Critial Values:')\n",
    "    print(f'   {key}, {value}')"
   ]
  },
  {
   "cell_type": "markdown",
   "id": "15d0361a",
   "metadata": {},
   "source": [
    "Полученное 'p-value' превышает уровень 0,05, а статистика ADF выше критических значений.Это означает,что ряд не стационарен."
   ]
  }
 ],
 "metadata": {
  "kernelspec": {
   "display_name": "Python 3 (ipykernel)",
   "language": "python",
   "name": "python3"
  },
  "language_info": {
   "codemirror_mode": {
    "name": "ipython",
    "version": 3
   },
   "file_extension": ".py",
   "mimetype": "text/x-python",
   "name": "python",
   "nbconvert_exporter": "python",
   "pygments_lexer": "ipython3",
   "version": "3.11.0"
  }
 },
 "nbformat": 4,
 "nbformat_minor": 5
}
