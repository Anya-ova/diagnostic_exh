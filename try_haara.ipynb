{
 "cells": [
  {
   "cell_type": "code",
   "execution_count": 1,
   "metadata": {},
   "outputs": [],
   "source": [
    "import pandas as pd\n",
    "import numpy as np\n",
    "import matplotlib.pyplot as plt\n",
    "\n",
    "import pywt\n",
    "from pywt import wavedec\n",
    "\n",
    "plt.rcParams[\"figure.figsize\"] = (8, 4)\n",
    "plt.rcParams.update({'font.size': 12})"
   ]
  },
  {
   "cell_type": "code",
   "execution_count": 2,
   "metadata": {},
   "outputs": [
    {
     "data": {
      "text/html": [
       "<div>\n",
       "<style scoped>\n",
       "    .dataframe tbody tr th:only-of-type {\n",
       "        vertical-align: middle;\n",
       "    }\n",
       "\n",
       "    .dataframe tbody tr th {\n",
       "        vertical-align: top;\n",
       "    }\n",
       "\n",
       "    .dataframe thead th {\n",
       "        text-align: right;\n",
       "    }\n",
       "</style>\n",
       "<table border=\"1\" class=\"dataframe\">\n",
       "  <thead>\n",
       "    <tr style=\"text-align: right;\">\n",
       "      <th></th>\n",
       "      <th>SM_Exgauster\\[0:0]</th>\n",
       "      <th>SM_Exgauster\\[0:1]</th>\n",
       "      <th>SM_Exgauster\\[0:2]</th>\n",
       "      <th>SM_Exgauster\\[0:3]</th>\n",
       "      <th>SM_Exgauster\\[0:4]</th>\n",
       "      <th>SM_Exgauster\\[0:5]</th>\n",
       "      <th>SM_Exgauster\\[0:6]</th>\n",
       "      <th>SM_Exgauster\\[0:7]</th>\n",
       "      <th>SM_Exgauster\\[0:8]</th>\n",
       "      <th>SM_Exgauster\\[0:9]</th>\n",
       "      <th>...</th>\n",
       "      <th>SM_Exgauster\\[6:2]</th>\n",
       "      <th>SM_Exgauster\\[6.0]</th>\n",
       "      <th>SM_Exgauster\\[7:0]</th>\n",
       "      <th>SM_Exgauster\\[7:1]</th>\n",
       "      <th>SM_Exgauster\\[7:2]</th>\n",
       "      <th>SM_Exgauster\\[7.0]</th>\n",
       "      <th>SM_Exgauster\\[8:0]</th>\n",
       "      <th>SM_Exgauster\\[8:1]</th>\n",
       "      <th>SM_Exgauster\\[8:2]</th>\n",
       "      <th>SM_Exgauster\\[8.0]</th>\n",
       "    </tr>\n",
       "    <tr>\n",
       "      <th>moment</th>\n",
       "      <th></th>\n",
       "      <th></th>\n",
       "      <th></th>\n",
       "      <th></th>\n",
       "      <th></th>\n",
       "      <th></th>\n",
       "      <th></th>\n",
       "      <th></th>\n",
       "      <th></th>\n",
       "      <th></th>\n",
       "      <th></th>\n",
       "      <th></th>\n",
       "      <th></th>\n",
       "      <th></th>\n",
       "      <th></th>\n",
       "      <th></th>\n",
       "      <th></th>\n",
       "      <th></th>\n",
       "      <th></th>\n",
       "      <th></th>\n",
       "      <th></th>\n",
       "    </tr>\n",
       "  </thead>\n",
       "  <tbody>\n",
       "    <tr>\n",
       "      <th>2023-01-25 06:32:25.125007</th>\n",
       "      <td>1.284722</td>\n",
       "      <td>1.689815</td>\n",
       "      <td>0.964621</td>\n",
       "      <td>1.614583</td>\n",
       "      <td>2.089120</td>\n",
       "      <td>1.440972</td>\n",
       "      <td>2.001208</td>\n",
       "      <td>1.539352</td>\n",
       "      <td>1.494385</td>\n",
       "      <td>1.765046</td>\n",
       "      <td>...</td>\n",
       "      <td>2.600589</td>\n",
       "      <td>1.0</td>\n",
       "      <td>625.000000</td>\n",
       "      <td>138.372635</td>\n",
       "      <td>3.098138</td>\n",
       "      <td>1.0</td>\n",
       "      <td>0.723379</td>\n",
       "      <td>15.567306</td>\n",
       "      <td>-5.605194e-45</td>\n",
       "      <td>0.0</td>\n",
       "    </tr>\n",
       "    <tr>\n",
       "      <th>2023-01-25 06:33:25.125007</th>\n",
       "      <td>1.267361</td>\n",
       "      <td>1.689815</td>\n",
       "      <td>0.962173</td>\n",
       "      <td>1.626158</td>\n",
       "      <td>2.065972</td>\n",
       "      <td>1.417824</td>\n",
       "      <td>1.997886</td>\n",
       "      <td>1.556713</td>\n",
       "      <td>1.482208</td>\n",
       "      <td>1.741898</td>\n",
       "      <td>...</td>\n",
       "      <td>2.594604</td>\n",
       "      <td>1.0</td>\n",
       "      <td>617.404541</td>\n",
       "      <td>138.209290</td>\n",
       "      <td>3.100688</td>\n",
       "      <td>1.0</td>\n",
       "      <td>0.723379</td>\n",
       "      <td>15.139420</td>\n",
       "      <td>-5.605194e-45</td>\n",
       "      <td>0.0</td>\n",
       "    </tr>\n",
       "    <tr>\n",
       "      <th>2023-01-25 06:34:25.125007</th>\n",
       "      <td>1.296296</td>\n",
       "      <td>1.701389</td>\n",
       "      <td>0.971429</td>\n",
       "      <td>1.620370</td>\n",
       "      <td>2.083333</td>\n",
       "      <td>1.429398</td>\n",
       "      <td>1.990758</td>\n",
       "      <td>1.527778</td>\n",
       "      <td>1.489869</td>\n",
       "      <td>1.712963</td>\n",
       "      <td>...</td>\n",
       "      <td>2.591550</td>\n",
       "      <td>1.0</td>\n",
       "      <td>618.438721</td>\n",
       "      <td>138.295776</td>\n",
       "      <td>3.107095</td>\n",
       "      <td>1.0</td>\n",
       "      <td>0.723379</td>\n",
       "      <td>15.138195</td>\n",
       "      <td>-5.605194e-45</td>\n",
       "      <td>0.0</td>\n",
       "    </tr>\n",
       "    <tr>\n",
       "      <th>2023-01-25 06:35:25.125007</th>\n",
       "      <td>1.255787</td>\n",
       "      <td>1.689815</td>\n",
       "      <td>0.971007</td>\n",
       "      <td>1.614583</td>\n",
       "      <td>2.077546</td>\n",
       "      <td>1.429398</td>\n",
       "      <td>2.019292</td>\n",
       "      <td>1.516204</td>\n",
       "      <td>1.489961</td>\n",
       "      <td>1.712963</td>\n",
       "      <td>...</td>\n",
       "      <td>2.686367</td>\n",
       "      <td>1.0</td>\n",
       "      <td>622.107178</td>\n",
       "      <td>138.080093</td>\n",
       "      <td>3.112228</td>\n",
       "      <td>1.0</td>\n",
       "      <td>0.723379</td>\n",
       "      <td>15.138195</td>\n",
       "      <td>-5.605194e-45</td>\n",
       "      <td>0.0</td>\n",
       "    </tr>\n",
       "    <tr>\n",
       "      <th>2023-01-25 06:36:25.125007</th>\n",
       "      <td>1.302083</td>\n",
       "      <td>1.701389</td>\n",
       "      <td>0.966538</td>\n",
       "      <td>1.620370</td>\n",
       "      <td>2.112268</td>\n",
       "      <td>1.452546</td>\n",
       "      <td>1.981981</td>\n",
       "      <td>1.562500</td>\n",
       "      <td>1.494923</td>\n",
       "      <td>1.770833</td>\n",
       "      <td>...</td>\n",
       "      <td>2.692058</td>\n",
       "      <td>1.0</td>\n",
       "      <td>617.766602</td>\n",
       "      <td>138.354065</td>\n",
       "      <td>3.106137</td>\n",
       "      <td>1.0</td>\n",
       "      <td>0.723379</td>\n",
       "      <td>15.138195</td>\n",
       "      <td>-5.605194e-45</td>\n",
       "      <td>0.0</td>\n",
       "    </tr>\n",
       "  </tbody>\n",
       "</table>\n",
       "<p>5 rows × 765 columns</p>\n",
       "</div>"
      ],
      "text/plain": [
       "                            SM_Exgauster\\[0:0]  SM_Exgauster\\[0:1]  \\\n",
       "moment                                                               \n",
       "2023-01-25 06:32:25.125007            1.284722            1.689815   \n",
       "2023-01-25 06:33:25.125007            1.267361            1.689815   \n",
       "2023-01-25 06:34:25.125007            1.296296            1.701389   \n",
       "2023-01-25 06:35:25.125007            1.255787            1.689815   \n",
       "2023-01-25 06:36:25.125007            1.302083            1.701389   \n",
       "\n",
       "                            SM_Exgauster\\[0:2]  SM_Exgauster\\[0:3]  \\\n",
       "moment                                                               \n",
       "2023-01-25 06:32:25.125007            0.964621            1.614583   \n",
       "2023-01-25 06:33:25.125007            0.962173            1.626158   \n",
       "2023-01-25 06:34:25.125007            0.971429            1.620370   \n",
       "2023-01-25 06:35:25.125007            0.971007            1.614583   \n",
       "2023-01-25 06:36:25.125007            0.966538            1.620370   \n",
       "\n",
       "                            SM_Exgauster\\[0:4]  SM_Exgauster\\[0:5]  \\\n",
       "moment                                                               \n",
       "2023-01-25 06:32:25.125007            2.089120            1.440972   \n",
       "2023-01-25 06:33:25.125007            2.065972            1.417824   \n",
       "2023-01-25 06:34:25.125007            2.083333            1.429398   \n",
       "2023-01-25 06:35:25.125007            2.077546            1.429398   \n",
       "2023-01-25 06:36:25.125007            2.112268            1.452546   \n",
       "\n",
       "                            SM_Exgauster\\[0:6]  SM_Exgauster\\[0:7]  \\\n",
       "moment                                                               \n",
       "2023-01-25 06:32:25.125007            2.001208            1.539352   \n",
       "2023-01-25 06:33:25.125007            1.997886            1.556713   \n",
       "2023-01-25 06:34:25.125007            1.990758            1.527778   \n",
       "2023-01-25 06:35:25.125007            2.019292            1.516204   \n",
       "2023-01-25 06:36:25.125007            1.981981            1.562500   \n",
       "\n",
       "                            SM_Exgauster\\[0:8]  SM_Exgauster\\[0:9]  ...  \\\n",
       "moment                                                              ...   \n",
       "2023-01-25 06:32:25.125007            1.494385            1.765046  ...   \n",
       "2023-01-25 06:33:25.125007            1.482208            1.741898  ...   \n",
       "2023-01-25 06:34:25.125007            1.489869            1.712963  ...   \n",
       "2023-01-25 06:35:25.125007            1.489961            1.712963  ...   \n",
       "2023-01-25 06:36:25.125007            1.494923            1.770833  ...   \n",
       "\n",
       "                            SM_Exgauster\\[6:2]  SM_Exgauster\\[6.0]  \\\n",
       "moment                                                               \n",
       "2023-01-25 06:32:25.125007            2.600589                 1.0   \n",
       "2023-01-25 06:33:25.125007            2.594604                 1.0   \n",
       "2023-01-25 06:34:25.125007            2.591550                 1.0   \n",
       "2023-01-25 06:35:25.125007            2.686367                 1.0   \n",
       "2023-01-25 06:36:25.125007            2.692058                 1.0   \n",
       "\n",
       "                            SM_Exgauster\\[7:0]  SM_Exgauster\\[7:1]  \\\n",
       "moment                                                               \n",
       "2023-01-25 06:32:25.125007          625.000000          138.372635   \n",
       "2023-01-25 06:33:25.125007          617.404541          138.209290   \n",
       "2023-01-25 06:34:25.125007          618.438721          138.295776   \n",
       "2023-01-25 06:35:25.125007          622.107178          138.080093   \n",
       "2023-01-25 06:36:25.125007          617.766602          138.354065   \n",
       "\n",
       "                            SM_Exgauster\\[7:2]  SM_Exgauster\\[7.0]  \\\n",
       "moment                                                               \n",
       "2023-01-25 06:32:25.125007            3.098138                 1.0   \n",
       "2023-01-25 06:33:25.125007            3.100688                 1.0   \n",
       "2023-01-25 06:34:25.125007            3.107095                 1.0   \n",
       "2023-01-25 06:35:25.125007            3.112228                 1.0   \n",
       "2023-01-25 06:36:25.125007            3.106137                 1.0   \n",
       "\n",
       "                            SM_Exgauster\\[8:0]  SM_Exgauster\\[8:1]  \\\n",
       "moment                                                               \n",
       "2023-01-25 06:32:25.125007            0.723379           15.567306   \n",
       "2023-01-25 06:33:25.125007            0.723379           15.139420   \n",
       "2023-01-25 06:34:25.125007            0.723379           15.138195   \n",
       "2023-01-25 06:35:25.125007            0.723379           15.138195   \n",
       "2023-01-25 06:36:25.125007            0.723379           15.138195   \n",
       "\n",
       "                            SM_Exgauster\\[8:2]  SM_Exgauster\\[8.0]  \n",
       "moment                                                              \n",
       "2023-01-25 06:32:25.125007       -5.605194e-45                 0.0  \n",
       "2023-01-25 06:33:25.125007       -5.605194e-45                 0.0  \n",
       "2023-01-25 06:34:25.125007       -5.605194e-45                 0.0  \n",
       "2023-01-25 06:35:25.125007       -5.605194e-45                 0.0  \n",
       "2023-01-25 06:36:25.125007       -5.605194e-45                 0.0  \n",
       "\n",
       "[5 rows x 765 columns]"
      ]
     },
     "execution_count": 2,
     "metadata": {},
     "output_type": "execute_result"
    }
   ],
   "source": [
    "df = pd.read_csv('raw_data.csv', index_col = ['moment'], parse_dates = ['moment'])"
   ]
  },
  {
   "cell_type": "code",
   "execution_count": 3,
   "metadata": {},
   "outputs": [],
   "source": [
    "vibr_ax = 'SM_Exgauster\\[0:8]'\n",
    "vibr_ax8 = 'SM_Exgauster\\[0:11]'"
   ]
  },
  {
   "cell_type": "code",
   "execution_count": 4,
   "metadata": {},
   "outputs": [
    {
     "data": {
      "text/plain": [
       "<AxesSubplot:xlabel='moment'>"
      ]
     },
     "execution_count": 4,
     "metadata": {},
     "output_type": "execute_result"
    },
    {
     "data": {
      "image/png": "[encoded data removed]",
      "text/plain": [
       "<Figure size 576x288 with 1 Axes>"
      ]
     },
     "metadata": {
      "needs_background": "light"
     },
     "output_type": "display_data"
    }
   ],
   "source": [
    "df[vibr_ax].plot()"
   ]
  },
  {
   "cell_type": "markdown",
   "metadata": {},
   "source": [
    "# Применим разложение хаара к вибрации"
   ]
  },
  {
   "cell_type": "markdown",
   "metadata": {},
   "source": [
    "Преобразования Фурье будет работать очень хорошо, когда частотный спектр стационарный. \n",
    "Чем нестационарнее сигнал, тем хуже будут результаты. Это проблема, так как большинство сигналов, которые мы видим в реальной жизни, нестационарны по своей природе.\n",
    "У нас сигнал не стационарен! Поэтому мы и должны смотреть что-то сложнее Фурье"
   ]
  },
  {
   "cell_type": "code",
   "execution_count": 5,
   "metadata": {},
   "outputs": [],
   "source": [
    "cA, cD = wavedec(df[vibr_ax].values, 'haar', mode='zero', level=1)"
   ]
  },
  {
   "cell_type": "markdown",
   "metadata": {},
   "source": [
    "На выходе 2 вектора: \n",
    "\n",
    "Коэффициенты аппроксимации (cA) представляют выход фильтра нижних частот (фильтра усреднения) DWT. Коэффициенты детализации (cD) представляют выход фильтра высоких частот (разностного фильтра) DWT."
   ]
  },
  {
   "cell_type": "code",
   "execution_count": 6,
   "metadata": {},
   "outputs": [
    {
     "data": {
      "text/plain": [
       "[<matplotlib.lines.Line2D at 0x7fb6d7601d90>]"
      ]
     },
     "execution_count": 6,
     "metadata": {},
     "output_type": "execute_result"
    },
    {
     "data": {
      "image/png": "[encoded data removed]",
      "text/plain": [
       "<Figure size 576x288 with 1 Axes>"
      ]
     },
     "metadata": {
      "needs_background": "light"
     },
     "output_type": "display_data"
    }
   ],
   "source": [
    "plt.plot(cD)"
   ]
  },
  {
   "cell_type": "code",
   "execution_count": 7,
   "metadata": {},
   "outputs": [
    {
     "data": {
      "text/plain": [
       "[<matplotlib.lines.Line2D at 0x7fb6d759c990>]"
      ]
     },
     "execution_count": 7,
     "metadata": {},
     "output_type": "execute_result"
    },
    {
     "data": {
      "image/png": "[encoded data removed]",
      "text/plain": [
       "<Figure size 576x288 with 1 Axes>"
      ]
     },
     "metadata": {
      "needs_background": "light"
     },
     "output_type": "display_data"
    }
   ],
   "source": [
    "plt.grid()\n",
    "plt.plot(cD[0:6000])"
   ]
  },
  {
   "cell_type": "markdown",
   "metadata": {},
   "source": [
    "## Попробуем построить модель"
   ]
  },
  {
   "cell_type": "code",
   "execution_count": 8,
   "metadata": {},
   "outputs": [],
   "source": [
    "from sklearn.linear_model import LinearRegression, Ridge"
   ]
  },
  {
   "cell_type": "code",
   "execution_count": 9,
   "metadata": {},
   "outputs": [],
   "source": [
    "# def moving_average(x, w):\n",
    "#     return np.convolve(x, np.ones(w), 'valid') / w\n",
    "\n",
    "# mean_r = moving_average(np.abs(cD), 20)\n",
    "\n",
    "# x_train = mean_r[0:5000]"
   ]
  },
  {
   "cell_type": "code",
   "execution_count": 10,
   "metadata": {},
   "outputs": [],
   "source": [
    "# проходим скользящим окном и выбираем максимальные значения cD\n",
    "\n",
    "max_r = np.lib.stride_tricks.sliding_window_view(np.abs(cD), 20).max(axis=1)\n",
    "\n",
    "# для построения выбираем 0:5000 значений cD\n",
    "# на 5000:6000 будем как бы \"тестировать\"\n",
    "x_train = max_r[0:5000]"
   ]
  },
  {
   "cell_type": "code",
   "execution_count": 11,
   "metadata": {},
   "outputs": [],
   "source": [
    "x_train = x_train[~np.isnan(x_train)]"
   ]
  },
  {
   "cell_type": "code",
   "execution_count": 15,
   "metadata": {},
   "outputs": [
    {
     "data": {
      "text/plain": [
       "Ridge()"
      ]
     },
     "execution_count": 15,
     "metadata": {},
     "output_type": "execute_result"
    }
   ],
   "source": [
    "time = np.arange(0, len(x_train), 1)\n",
    "model = Ridge() # линейное уравнение, но с коэффициентом регуляризации\n",
    "model.fit(time.reshape(-1, 1), x_train)"
   ]
  },
  {
   "cell_type": "code",
   "execution_count": 13,
   "metadata": {},
   "outputs": [],
   "source": [
    "x_for_plot = np.arange(0, 6000)\n",
    "predict = model.predict(x_for_plot.reshape(-1, 1))"
   ]
  },
  {
   "cell_type": "code",
   "execution_count": 14,
   "metadata": {},
   "outputs": [
    {
     "data": {
      "text/plain": [
       "<matplotlib.legend.Legend at 0x7fb6d75c0450>"
      ]
     },
     "execution_count": 14,
     "metadata": {},
     "output_type": "execute_result"
    },
    {
     "data": {
      "image/png": "[encoded data removed]",
      "text/plain": [
       "<Figure size 576x288 with 1 Axes>"
      ]
     },
     "metadata": {
      "needs_background": "light"
     },
     "output_type": "display_data"
    }
   ],
   "source": [
    "plt.grid()\n",
    "plt.plot(max_r, label='max cD')\n",
    "plt.plot(x_for_plot, predict, label='prediction')\n",
    "plt.ylim([0, 0.2])\n",
    "plt.xlim([0, 6000])\n",
    "\n",
    "plt.legend()"
   ]
  },
  {
   "cell_type": "markdown",
   "metadata": {},
   "source": [
    "Выбрать граничные значения, например:\n",
    "если предсказанное значение max cD по вибрации привысит 0.05, то в этот момет будет поломка.\n",
    "\n",
    "\n",
    "\n",
    "На будущее:\n",
    "Можно попробовать решать как задачу кластеризации -- то есть может состояние экзгаустера разделиться на 3 группы, которые можно охарактеризовать как \n",
    "- нормальное, \n",
    "- предаварийное (имеются нарушение), \n",
    "- авария.\n",
    "\n",
    "Тогда, просто диагностируя состояния \"предаварийное\" уже сообщать оператору о возможных поломках в будущем. "
   ]
  },
  {
   "cell_type": "code",
   "execution_count": null,
   "metadata": {},
   "outputs": [],
   "source": []
  }
 ],
 "metadata": {
  "kernelspec": {
   "display_name": "Python 3",
   "language": "python",
   "name": "python3"
  },
  "language_info": {
   "codemirror_mode": {
    "name": "ipython",
    "version": 3
   },
   "file_extension": ".py",
   "mimetype": "text/x-python",
   "name": "python",
   "nbconvert_exporter": "python",
   "pygments_lexer": "ipython3",
   "version": "3.7.6"
  }
 },
 "nbformat": 4,
 "nbformat_minor": 4
}
